{
 "cells": [
  {
   "cell_type": "code",
   "execution_count": null,
   "metadata": {
    "collapsed": false
   },
   "outputs": [],
   "source": [
    "%load_ext 2to3_ext"
   ]
  },
  {
   "cell_type": "code",
   "execution_count": null,
   "metadata": {
    "collapsed": false
   },
   "outputs": [],
   "source": [
    "%%pyth\n",
    "a = float(raw_input(\"Ingrese a: \")) \n",
    "b = float(raw_input(\"Ingrese b: \"))\n",
    "c = float(raw_input(\"Ingrese c: \"))\n",
    "\n",
    "if a>(b+c) or b>(a+c) or c>(a+b):\n",
    "    print \"Ingrese un traingulo valido.\"\n",
    "elif a==b and b==c:\n",
    "    print \"Triangulo equilatero.\"\n",
    "elif a==b or b==c or a==c:\n",
    "    print \"Triangulo isoceles.\"\n",
    "else:\n",
    "    print \"Triangulo escaleno.\""
   ]
  }
 ],
 "metadata": {
  "kernelspec": {
   "display_name": "Python 3",
   "language": "python",
   "name": "python3"
  },
  "language_info": {
   "codemirror_mode": {
    "name": "ipython",
    "version": 3
   },
   "file_extension": ".py",
   "mimetype": "text/x-python",
   "name": "python",
   "nbconvert_exporter": "python",
   "pygments_lexer": "ipython3",
   "version": "3.6.0"
  }
 },
 "nbformat": 4,
 "nbformat_minor": 2
}
