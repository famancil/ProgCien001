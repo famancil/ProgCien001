{
 "cells": [
  {
   "cell_type": "markdown",
   "metadata": {},
   "source": [
    "<center>\n",
    "    <h1> Scientific Programming in Python  </h1>\n",
    "    <h2> Topic 4: Just in Time Compilation: Numba and NumExpr </h2> \n",
    "</center>\n",
    "\n",
    "_Notebook created by Felipe Mancilla S - `felipe.mancilla@alumnos.usm.cl` - DI UTFSM - April 2017._"
   ]
  },
  {
   "cell_type": "code",
   "execution_count": 1,
   "metadata": {
    "collapsed": true
   },
   "outputs": [],
   "source": [
    "import numba\n",
    "import numpy as np\n",
    "import numexpr as ne\n",
    "import matplotlib.pyplot as plt\n",
    "import scipy as sp"
   ]
  },
  {
   "cell_type": "markdown",
   "metadata": {
    "collapsed": true
   },
   "source": [
    "En esta actividad implementaremos una conocida métrica para medir disimilitud entre conjuntos: __La métrica de Hausdorff__. Esta corresponde a un métrica o distancia ocupada para medir cuán disímiles son dos subconjuntos dados. \n",
    "\n",
    "\n",
    "Esta tiene muchas aplicaciones, en particular para comparar el parecido entre imágenes. En el caso en donde los conjuntos son arreglos bidimensionales, la definición es la siguiente:\n",
    "\n",
    "Sean $X \\in \\mathbb{R}^{m \\times 3}$ e  $Y \\in \\mathbb{R}^{n \\times 3}$ dos matrices, la métrica/distancia de Hausdorff sobre sobre estas como:\n",
    "\n",
    "$$\n",
    "d_H(X,Y) = \\max \\left(\\ \\max_{i\\leq m} \\min_{j \\leq n} d(X[i],Y[j]), \\ \\max_{j\\leq n} \\min_{i \\leq m} d(Y[j],X[i]) \\ \\right)\n",
    "$$\n",
    "\n",
    "donde $d$ es la _distancia Euclideana_ clásica. ($X[i]$ indíca la i-ésima fila de X).\n",
    "\n",
    "__Ilustración unidimensional:__ Distancia entre funciones.\n",
    "<img src='data/hausdorff.png' style=\"width: 600px;\">"
   ]
  },
  {
   "cell_type": "markdown",
   "metadata": {},
   "source": [
    "1. Implemente la métrica de Hausdorff en Python clásico.\n",
    "2. Implemente la métrica de Hausdorff usando Numba (Forzando el modo __nopython__ y definiendo explícitamente las _signatures_ de las funciones).\n",
    "3. Cree `10` arreglos $X,Y$ aleatorios, con cantidad creciente de filas, y realice análsis de tiempos de ejecuciones de las funciones anteriores sobre estos arreglos.\n",
    "4. Concluya."
   ]
  },
  {
   "cell_type": "markdown",
   "metadata": {},
   "source": [
    "1. Implemente la métrica de Hausdorff en Python clásico.\n",
    "\n",
    "Para esta parte se implementara esta métrica de dos formas, con una función de la libreria scipy.spatial llamado \"distance\""
   ]
  },
  {
   "cell_type": "code",
   "execution_count": 2,
   "metadata": {
    "collapsed": true
   },
   "outputs": [],
   "source": [
    "from scipy.spatial import distance\n",
    "def metric_Hausdorff(X,Y):\n",
    "    dst_x = np.zeros(shape=(len(X),len(Y)))\n",
    "    dst_y = np.zeros(shape=(len(Y),len(X)))\n",
    "    minimum_x = np.zeros(len(X))\n",
    "    minimum_y = np.zeros(len(Y))\n",
    "    for i in range(0,len(X)):\n",
    "        for j in range(0,len(Y)):\n",
    "            dst_x[i,j]=distance.euclidean(X[i,:],Y[j,:])\n",
    "        minimum_x[i]=min(dst_x[i,:])\n",
    "    for i in range(0,len(Y)):\n",
    "        for j in range(0,len(X)):\n",
    "            dst_y[i,j]=distance.euclidean(Y[i,:],X[j,:])\n",
    "        minimum_y[i]=min(dst_y[i,:])\n",
    "    return max(max(minimum_x),max(minimum_y))"
   ]
  },
  {
   "cell_type": "markdown",
   "metadata": {},
   "source": [
    "Y de la otra forma, usando funciones de la libreria \"numpy\""
   ]
  },
  {
   "cell_type": "code",
   "execution_count": 3,
   "metadata": {
    "collapsed": true
   },
   "outputs": [],
   "source": [
    "def metric_Hausdorff_numpy(X,Y):\n",
    "    dst_x = np.zeros(shape=(len(X),len(Y)))\n",
    "    dst_y = np.zeros(shape=(len(Y),len(X)))\n",
    "    minimum_x = np.zeros(len(X))\n",
    "    minimum_y = np.zeros(len(Y))\n",
    "    for i in range(0,len(X)):\n",
    "        for j in range(0,len(Y)):\n",
    "            dst_x[i,j]=np.sqrt(np.sum((X[i,:]-Y[j,:])**2))\n",
    "        minimum_x[i]=dst_x[i,:].min()\n",
    "    for i in range(0,len(Y)):\n",
    "        for j in range(0,len(X)):\n",
    "            dst_y[i,j]=np.sqrt(np.sum((Y[i,:]-X[j,:])**2))\n",
    "        minimum_y[i]=dst_y[i,:].min()\n",
    "    return max(minimum_x.max(),minimum_y.max())"
   ]
  },
  {
   "cell_type": "markdown",
   "metadata": {},
   "source": [
    "Por lo tanto, sacaremos los tiempos de cada función."
   ]
  },
  {
   "cell_type": "code",
   "execution_count": 4,
   "metadata": {
    "collapsed": false
   },
   "outputs": [
    {
     "name": "stdout",
     "output_type": "stream",
     "text": [
      "The slowest run took 376.56 times longer than the fastest. This could mean that an intermediate result is being cached.\n",
      "1000 loops, best of 3: 369 µs per loop\n",
      "1000 loops, best of 3: 657 µs per loop\n",
      "1000 loops, best of 3: 1 ms per loop\n",
      "1000 loops, best of 3: 1.49 ms per loop\n",
      "100 loops, best of 3: 1.92 ms per loop\n",
      "100 loops, best of 3: 2.84 ms per loop\n",
      "100 loops, best of 3: 3.64 ms per loop\n",
      "100 loops, best of 3: 4.52 ms per loop\n",
      "100 loops, best of 3: 4.76 ms per loop\n",
      "100 loops, best of 3: 6.28 ms per loop\n"
     ]
    }
   ],
   "source": [
    "maximum = np.zeros(10)\n",
    "for i in range(3,13):\n",
    "   \n",
    "    #print(i,i-3)\n",
    "    X = np.zeros(shape=(i,3))\n",
    "    ad=np.random.randint(0,2)\n",
    "    Y = np.zeros(shape=(i+ad,3))\n",
    "    X= np.random.random((i,3))\n",
    "    Y= np.random.random((i+ad,3))\n",
    "    \n",
    "    %%timeit maximum[i-3] = metric_Hausdorff(X,Y)"
   ]
  },
  {
   "cell_type": "code",
   "execution_count": 5,
   "metadata": {
    "collapsed": false
   },
   "outputs": [
    {
     "name": "stdout",
     "output_type": "stream",
     "text": [
      "1000 loops, best of 3: 221 µs per loop\n",
      "1000 loops, best of 3: 333 µs per loop\n",
      "1000 loops, best of 3: 500 µs per loop\n",
      "1000 loops, best of 3: 604 µs per loop\n",
      "1000 loops, best of 3: 838 µs per loop\n",
      "1000 loops, best of 3: 1.01 ms per loop\n",
      "1000 loops, best of 3: 1.42 ms per loop\n",
      "1000 loops, best of 3: 1.68 ms per loop\n",
      "100 loops, best of 3: 1.98 ms per loop\n",
      "100 loops, best of 3: 2.36 ms per loop\n"
     ]
    }
   ],
   "source": [
    "maximum = np.zeros(10)\n",
    "for i in range(3,13):\n",
    "   \n",
    "    #print(i,i-3)\n",
    "    X = np.zeros(shape=(i,3))\n",
    "    ad=np.random.randint(0,2)\n",
    "    Y = np.zeros(shape=(i+ad,3))\n",
    "    X= np.random.random((i,3))\n",
    "    Y= np.random.random((i+ad,3))\n",
    "    \n",
    "    %%timeit maximum[i-3] = metric_Hausdorff_numpy(X,Y)"
   ]
  },
  {
   "cell_type": "markdown",
   "metadata": {},
   "source": [
    "Podemos observar que nuestra segunda función usando numpy es mas rapida que la función usada de la libreria scipy. \n",
    "Ahora implementando la función en __Numba__."
   ]
  },
  {
   "cell_type": "code",
   "execution_count": 12,
   "metadata": {
    "collapsed": false
   },
   "outputs": [],
   "source": [
    "from scipy.spatial import distance\n",
    "@numba.jit('float64 (float64[:,:], float64[:,:])',nopython=True)\n",
    "def metric_Hausdorff_numba(X,Y):\n",
    "    dst_x = np.zeros(shape=(len(X),len(Y)))\n",
    "    dst_y = np.zeros(shape=(len(Y),len(X)))\n",
    "    minimum_x = np.zeros(len(X))\n",
    "    minimum_y = np.zeros(len(Y))\n",
    "    for i in range(0,len(X)):\n",
    "        for j in range(0,len(Y)):\n",
    "            dst_x[i,j]=np.sqrt(np.sum((X[i,:]-Y[j,:])**2))\n",
    "        minimum_x[i]=dst_x[i,:].min()\n",
    "    for i in range(0,len(Y)):\n",
    "        for j in range(0,len(X)):\n",
    "            dst_y[i,j]=np.sqrt(np.sum((Y[i,:]-X[j,:])**2))\n",
    "        minimum_y[i]=dst_y[i,:].min()\n",
    "    return max(minimum_x.max(),minimum_y.max())"
   ]
  },
  {
   "cell_type": "markdown",
   "metadata": {},
   "source": [
    "Entonces al observar su tiempo de ejecución"
   ]
  },
  {
   "cell_type": "code",
   "execution_count": 15,
   "metadata": {
    "collapsed": false
   },
   "outputs": [
    {
     "name": "stdout",
     "output_type": "stream",
     "text": [
      "The slowest run took 4.70 times longer than the fastest. This could mean that an intermediate result is being cached.\n",
      "100000 loops, best of 3: 6.04 µs per loop\n",
      "100000 loops, best of 3: 9.04 µs per loop\n",
      "100000 loops, best of 3: 11.2 µs per loop\n",
      "100000 loops, best of 3: 17.3 µs per loop\n",
      "10000 loops, best of 3: 22.6 µs per loop\n",
      "10000 loops, best of 3: 28.5 µs per loop\n",
      "10000 loops, best of 3: 35 µs per loop\n",
      "10000 loops, best of 3: 38.9 µs per loop\n",
      "10000 loops, best of 3: 46.1 µs per loop\n",
      "10000 loops, best of 3: 55.9 µs per loop\n"
     ]
    }
   ],
   "source": [
    "maximum = np.zeros(10)\n",
    "for i in range(3,13):\n",
    "    #print(i,i-3)\n",
    "    X = np.zeros(shape=(i,3))\n",
    "    ad=np.random.randint(0,2)\n",
    "    Y = np.zeros(shape=(i+ad,3))\n",
    "    X= np.random.random((i,3))\n",
    "    Y= np.random.random((i+ad,3))\n",
    "    %%timeit maximum[i-3] = metric_Hausdorff_numba(X,Y)"
   ]
  },
  {
   "cell_type": "markdown",
   "metadata": {
    "collapsed": false
   },
   "source": [
    "En conclusión, analizando los tiempos de ejecución de cada funcion implementada en __scypy__,__numpy__ y __numba__.\n",
    "Se concluye que el mejor tiempo ocurre en __numba__, siendo que el peor caso de la cantidad de arreglos (10x3) aun se calcula la métrica de manera \"demasiado\" rapido."
   ]
  }
 ],
 "metadata": {
  "kernelspec": {
   "display_name": "Python 3",
   "language": "python",
   "name": "python3"
  },
  "language_info": {
   "codemirror_mode": {
    "name": "ipython",
    "version": 3
   },
   "file_extension": ".py",
   "mimetype": "text/x-python",
   "name": "python",
   "nbconvert_exporter": "python",
   "pygments_lexer": "ipython3",
   "version": "3.6.0"
  }
 },
 "nbformat": 4,
 "nbformat_minor": 2
}
